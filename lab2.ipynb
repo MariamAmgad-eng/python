{
 "cells": [
  {
   "cell_type": "code",
   "execution_count": 12,
   "metadata": {},
   "outputs": [
    {
     "name": "stdout",
     "output_type": "stream",
     "text": [
      "[4, 9, 10]\n"
     ]
    }
   ],
   "source": [
    "var = input(\"Enter a string: \")\n",
    "new_index=[]\n",
    "for index, i in enumerate(var):  \n",
    "    if i == \"i\":  \n",
    "        new_index.append(index)\n",
    "print(new_index)"
   ]
  },
  {
   "cell_type": "code",
   "execution_count": null,
   "metadata": {},
   "outputs": [
    {
     "name": "stdout",
     "output_type": "stream",
     "text": [
      "[[1], [2, 4], [3, 6, 9]]\n"
     ]
    }
   ],
   "source": [
    "a = int(input(\"Enter a number: \"))  \n",
    "results = []  \n",
    "for i in range(1, a + 1): \n",
    "   sublist=[]\n",
    "   for j in range(1, i + 1):\n",
    "       sublist.append(i * j)  \n",
    "   results.append(sublist)  \n",
    "print(results)  \n"
   ]
  },
  {
   "cell_type": "code",
   "execution_count": 14,
   "metadata": {},
   "outputs": [
    {
     "name": "stdout",
     "output_type": "stream",
     "text": [
      "['mariam', 'amgad']\n",
      "{'m': 'mariam', 'a': 'amgad'}\n"
     ]
    }
   ],
   "source": [
    "n=input(\"enter a list of names\")\n",
    "my_list = n.split()\n",
    "print(my_list)\n",
    "user_dict = {} \n",
    "\n",
    "for i in my_list: \n",
    "    user_dict[i[0]]=i\n",
    "\n",
    "print( user_dict)  "
   ]
  }
 ],
 "metadata": {
  "kernelspec": {
   "display_name": "Python 3",
   "language": "python",
   "name": "python3"
  },
  "language_info": {
   "codemirror_mode": {
    "name": "ipython",
    "version": 3
   },
   "file_extension": ".py",
   "mimetype": "text/x-python",
   "name": "python",
   "nbconvert_exporter": "python",
   "pygments_lexer": "ipython3",
   "version": "3.13.2"
  }
 },
 "nbformat": 4,
 "nbformat_minor": 2
}
